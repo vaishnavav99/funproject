{
 "cells": [
  {
   "cell_type": "markdown",
   "metadata": {},
   "source": [
    "# Simple Calendar "
   ]
  },
  {
   "cell_type": "code",
   "execution_count": 9,
   "metadata": {},
   "outputs": [
    {
     "name": "stdout",
     "output_type": "stream",
     "text": [
      "year: \t2020\n",
      "month: \t12\n",
      "\n",
      "    December 2020\n",
      "Mo Tu We Th Fr Sa Su\n",
      "    1  2  3  4  5  6\n",
      " 7  8  9 10 11 12 13\n",
      "14 15 16 17 18 19 20\n",
      "21 22 23 24 25 26 27\n",
      "28 29 30 31\n",
      "\n",
      "press n to exit[else press enter]n\n"
     ]
    }
   ],
   "source": [
    "import calendar\n",
    "arr = ['january','february','march','april','may','june','july','auguest','september','october','november','december']\n",
    "x='1'\n",
    "while(x!='n'):\n",
    "    y=int(input(\"year: \\t\"))\n",
    "    m=input(\"month: \\t\")\n",
    "    if (m.isalpha()==True):\n",
    "        month=m.lower()\n",
    "        for l in range (len(arr)):\n",
    "            la=arr[l]\n",
    "            if(la==month):\n",
    "                mon=1+arr.index(la)\n",
    "                print(\"\\n\",calendar.month(y,mon))\n",
    "                break\n",
    "        print(\"invalid\")\n",
    "            \n",
    "    else:\n",
    "        month=int(m)\n",
    "        if(month<13 and month>0):\n",
    "            print(\"\\n\",calendar.month(y,month))\n",
    "    x=input(\"press n to exit[else press enter]:  \")"
   ]
  },
  {
   "cell_type": "markdown",
   "metadata": {},
   "source": [
    "# URL Shortner"
   ]
  },
  {
   "cell_type": "code",
   "execution_count": 13,
   "metadata": {},
   "outputs": [
    {
     "name": "stdout",
     "output_type": "stream",
     "text": [
      "Paste the URL here\thttps://github.com/akshayarora95/Prison-Management\n",
      "\n",
      " click here or copy url \t http://tinyurl.com/y3fjlgjj\n"
     ]
    }
   ],
   "source": [
    "import pyshorteners\n",
    "\n",
    "urls=input(\"Paste the URL here\\t\")\n",
    "print(\"\\n click here or copy url \\t\",pyshorteners.Shortener().tinyurl.short(urls))"
   ]
  },
  {
   "cell_type": "markdown",
   "metadata": {},
   "source": [
    "# Emoji\n",
    "\n"
   ]
  },
  {
   "cell_type": "code",
   "execution_count": 69,
   "metadata": {},
   "outputs": [
    {
     "name": "stdout",
     "output_type": "stream",
     "text": [
      "😀 😁 😂 😃 😄 😅 😆 😇 😈 😉 😊 😋 😌 😍 😎 😏\n",
      "😐 😑 😒 😓 😔 😕 😖 😗 😘 😙 😚 😛 😜 😝 😞 😟\n",
      "😠 😡 😢 😣 😤 😥 😦 😧 😨 😩 😪 😫 😬 😭 😮 😯\n",
      "😰 😱 😲 😳 😴 😵 😶 😷 😸 😹 😺 😻 😼 😽 😾 😿\n",
      "🙀 🙁 🙂 🙃 🙄 🙅 🙆 🙇 🙈 🙉 🙊 🙋 🙌 🙍 🙎 🙏\n",
      "🙐 🙑 🙒 🙓 🙔 🙕 🙖 🙗 🙘 🙙 🙚 🙛 🙜 🙝 🙞 🙟\n",
      "🙠 🙡 🙢 🙣 🙤 🙥 🙦 🙧 🙨 🙩 🙪 🙫 🙬 🙭 🙮 🙯\n",
      "🙰 🙱 🙲 🙳 🙴 🙵 🙶 🙷 🙸 🙹 🙺 🙻 🙼 🙽 🙾 🙿\n",
      "🚀 🚁 🚂 🚃 🚄 🚅 🚆 🚇 🚈 🚉 🚊 🚋 🚌 🚍 🚎 🚏\n",
      "🚐 🚑 🚒 🚓 🚔 🚕 🚖 🚗 🚘 🚙 🚚 🚛 🚜 🚝 🚞 🚟\n",
      "🚠 🚡 🚢 🚣 🚤 🚥 🚦 🚧 🚨 🚩 🚪 🚫 🚬 🚭 🚮 🚯\n",
      "🚰 🚱 🚲 🚳 🚴 🚵 🚶 🚷 🚸 🚹 🚺 🚻 🚼 🚽 🚾 🚿\n",
      "🛀 🛁 🛂 🛃 🛄 🛅 🛆 🛇 🛈 🛉 🛊 🛋 🛌 🛍 🛎 🛏\n"
     ]
    }
   ],
   "source": [
    "#emoji maker\n",
    "\n",
    "import emoji\n",
    "print('\\U0001F600','\\U0001F601','\\U0001F602','\\U0001F603','\\U0001F604','\\U0001F605','\\U0001F606','\\U0001F607','\\U0001F608','\\U0001F609','\\U0001F60A','\\U0001F60B','\\U0001F60C','\\U0001F60D','\\U0001F60E','\\U0001F60F')\n",
    "print('\\U0001F610','\\U0001F611','\\U0001F612','\\U0001F613','\\U0001F614','\\U0001F615','\\U0001F616','\\U0001F617','\\U0001F618','\\U0001F619','\\U0001F61A','\\U0001F61B','\\U0001F61C','\\U0001F61D','\\U0001F61E','\\U0001F61F')\n",
    "print('\\U0001F620','\\U0001F621','\\U0001F622','\\U0001F623','\\U0001F624','\\U0001F625','\\U0001F626','\\U0001F627','\\U0001F628','\\U0001F629','\\U0001F62A','\\U0001F62B','\\U0001F62C','\\U0001F62D','\\U0001F62E','\\U0001F62F')\n",
    "print('\\U0001F630','\\U0001F631','\\U0001F632','\\U0001F633','\\U0001F634','\\U0001F635','\\U0001F636','\\U0001F637','\\U0001F638','\\U0001F639','\\U0001F63A','\\U0001F63B','\\U0001F63C','\\U0001F63D','\\U0001F63E','\\U0001F63F')\n",
    "print('\\U0001F640','\\U0001F641','\\U0001F642','\\U0001F643','\\U0001F644','\\U0001F645','\\U0001F646','\\U0001F647','\\U0001F648','\\U0001F649','\\U0001F64A','\\U0001F64B','\\U0001F64C','\\U0001F64D','\\U0001F64E','\\U0001F64F')\n",
    "print('\\U0001F650','\\U0001F651','\\U0001F652','\\U0001F653','\\U0001F654','\\U0001F655','\\U0001F656','\\U0001F657','\\U0001F658','\\U0001F659','\\U0001F65A','\\U0001F65B','\\U0001F65C','\\U0001F65D','\\U0001F65E','\\U0001F65F')\n",
    "print('\\U0001F660','\\U0001F661','\\U0001F662','\\U0001F663','\\U0001F664','\\U0001F665','\\U0001F666','\\U0001F667','\\U0001F668','\\U0001F669','\\U0001F66A','\\U0001F66B','\\U0001F66C','\\U0001F66D','\\U0001F66E','\\U0001F66F')\n",
    "print('\\U0001F670','\\U0001F671','\\U0001F672','\\U0001F673','\\U0001F674','\\U0001F675','\\U0001F676','\\U0001F677','\\U0001F678','\\U0001F679','\\U0001F67A','\\U0001F67B','\\U0001F67C','\\U0001F67D','\\U0001F67E','\\U0001F67F')\n",
    "print('\\U0001F680','\\U0001F681','\\U0001F682','\\U0001F683','\\U0001F684','\\U0001F685','\\U0001F686','\\U0001F687','\\U0001F688','\\U0001F689','\\U0001F68A','\\U0001F68B','\\U0001F68C','\\U0001F68D','\\U0001F68E','\\U0001F68F')\n",
    "print('\\U0001F690','\\U0001F691','\\U0001F692','\\U0001F693','\\U0001F694','\\U0001F695','\\U0001F696','\\U0001F697','\\U0001F698','\\U0001F699','\\U0001F69A','\\U0001F69B','\\U0001F69C','\\U0001F69D','\\U0001F69E','\\U0001F69F')\n",
    "print('\\U0001F6A0','\\U0001F6A1','\\U0001F6A2','\\U0001F6A3','\\U0001F6A4','\\U0001F6A5','\\U0001F6A6','\\U0001F6A7','\\U0001F6A8','\\U0001F6A9','\\U0001F6AA','\\U0001F6AB','\\U0001F6AC','\\U0001F6AD','\\U0001F6AE','\\U0001F6AF')\n",
    "print('\\U0001F6B0','\\U0001F6B1','\\U0001F6B2','\\U0001F6B3','\\U0001F6B4','\\U0001F6B5','\\U0001F6B6','\\U0001F6B7','\\U0001F6B8','\\U0001F6B9','\\U0001F6BA','\\U0001F6BB','\\U0001F6BC','\\U0001F6BD','\\U0001F6BE','\\U0001F6BF')\n",
    "print('\\U0001F6C0','\\U0001F6C1','\\U0001F6C2','\\U0001F6C3','\\U0001F6C4','\\U0001F6C5','\\U0001F6C6','\\U0001F6C7','\\U0001F6C8','\\U0001F6C9','\\U0001F6CA','\\U0001F6CB','\\U0001F6CC','\\U0001F6CD','\\U0001F6CE','\\U0001F6CF')\n",
    "\n"
   ]
  },
  {
   "cell_type": "code",
   "execution_count": null,
   "metadata": {},
   "outputs": [
    {
     "name": "stdout",
     "output_type": "stream",
     "text": [
      "Enter emoji: \tx!='n'\n",
      "Description:   !='n\n",
      "press n to exit else press enter c\n",
      "Enter emoji: \tx!='n'\n",
      "Description:   !='n\n"
     ]
    }
   ],
   "source": [
    "#emoji decoder\n",
    "import emoji\n",
    "x='y'\n",
    "while(x!='n' and x!='N'):\n",
    "    e=input(\"Enter emoji: \\t\")\n",
    "    print(\"Description:  \",emoji.demojize(e)[1:-1])\n",
    "    x=input(\"press n to exit else press enter \")"
   ]
  },
  {
   "cell_type": "code",
   "execution_count": null,
   "metadata": {},
   "outputs": [],
   "source": []
  }
 ],
 "metadata": {
  "kernelspec": {
   "display_name": "Python 3",
   "language": "python",
   "name": "python3"
  },
  "language_info": {
   "codemirror_mode": {
    "name": "ipython",
    "version": 3
   },
   "file_extension": ".py",
   "mimetype": "text/x-python",
   "name": "python",
   "nbconvert_exporter": "python",
   "pygments_lexer": "ipython3",
   "version": "3.8.3"
  }
 },
 "nbformat": 4,
 "nbformat_minor": 4
}
